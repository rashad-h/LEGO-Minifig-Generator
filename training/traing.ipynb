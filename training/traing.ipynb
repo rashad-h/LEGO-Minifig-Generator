{
 "cells": [
  {
   "cell_type": "code",
   "execution_count": 1,
   "metadata": {},
   "outputs": [
    {
     "data": {
      "text/plain": [
       "'NVIDIA GeForce GTX 1050 Ti'"
      ]
     },
     "execution_count": 1,
     "metadata": {},
     "output_type": "execute_result"
    }
   ],
   "source": [
    "import torch\n",
    "\n",
    "device = torch.device(\"cuda\" if torch.cuda.is_available() else \"cpu\")\n",
    "torch.cuda.get_device_name(0)"
   ]
  },
  {
   "cell_type": "code",
   "execution_count": 2,
   "metadata": {},
   "outputs": [],
   "source": [
    "%%capture\n",
    "!pip install unsloth\n",
    "# Also get the latest nightly Unsloth!\n",
    "!pip uninstall unsloth -y && pip install --upgrade --no-cache-dir \"unsloth[colab-new] @ git+https://github.com/unslothai/unsloth.git\""
   ]
  },
  {
   "cell_type": "code",
   "execution_count": 5,
   "metadata": {},
   "outputs": [
    {
     "name": "stdout",
     "output_type": "stream",
     "text": [
      "       fig_id                               description  \\\n",
      "0  fig-000001                        Toy Store Employee   \n",
      "1  fig-000002                              Customer Kid   \n",
      "2  fig-000003                     Assassin Droid, White   \n",
      "3  fig-000004  Man, White Torso, Black Legs, Brown Hair   \n",
      "4  fig-000005           Captain America with Short Legs   \n",
      "\n",
      "                                     formatted_parts  \n",
      "0  \"Minifig Headwear\": \"Hair Mid-Length Swept Sid...  \n",
      "1  \"Minifig Lower Body\": \"Legs Short <Blue>\"\\n\"Mi...  \n",
      "2  \"Bars, Ladders and Fences\": \"Bar 1L with Clip ...  \n",
      "3  \"Minifig Lower Body\": \"Hips and Black Legs <Bl...  \n",
      "4  \"Minifig Lower Body\": \"Legs Short <Blue>\"\\n\"Mi...  \n"
     ]
    }
   ],
   "source": [
    "import sqlite3\n",
    "import pandas as pd\n",
    "\n",
    "# Connect to the SQLite database\n",
    "db_connection = sqlite3.connect('../Database/minifigs.db')\n",
    "\n",
    "# Query to get the relevant data from your table\n",
    "query = \"SELECT fig_id, description, formatted_parts FROM cleaned_minifig_data\"\n",
    "\n",
    "# Load the data into a pandas DataFrame\n",
    "df = pd.read_sql_query(query, db_connection)\n",
    "\n",
    "# Close the database connection\n",
    "db_connection.close()\n",
    "\n",
    "# Display the data\n",
    "print(df.head())"
   ]
  },
  {
   "cell_type": "code",
   "execution_count": 6,
   "metadata": {},
   "outputs": [
    {
     "ename": "NameError",
     "evalue": "name 'tokenizer' is not defined",
     "output_type": "error",
     "traceback": [
      "\u001b[0;31m---------------------------------------------------------------------------\u001b[0m",
      "\u001b[0;31mNameError\u001b[0m                                 Traceback (most recent call last)",
      "Cell \u001b[0;32mIn[6], line 12\u001b[0m\n\u001b[1;32m      1\u001b[0m alpaca_prompt \u001b[38;5;241m=\u001b[39m \u001b[38;5;124m\"\"\"\u001b[39m\u001b[38;5;124mBelow is an instruction that describes a task, paired with an input that provides further context. Write a response that appropriately completes the request.\u001b[39m\n\u001b[1;32m      2\u001b[0m \n\u001b[1;32m      3\u001b[0m \u001b[38;5;124m### Instruction:\u001b[39m\n\u001b[0;32m   (...)\u001b[0m\n\u001b[1;32m      9\u001b[0m \u001b[38;5;124m### Response:\u001b[39m\n\u001b[1;32m     10\u001b[0m \u001b[38;5;132;01m{}\u001b[39;00m\u001b[38;5;124m\"\"\"\u001b[39m\n\u001b[0;32m---> 12\u001b[0m EOS_TOKEN \u001b[38;5;241m=\u001b[39m \u001b[43mtokenizer\u001b[49m\u001b[38;5;241m.\u001b[39meos_token  \u001b[38;5;66;03m# Assuming you're using a tokenizer that has an EOS token\u001b[39;00m\n\u001b[1;32m     14\u001b[0m \u001b[38;5;66;03m# Function to format data into prompts\u001b[39;00m\n\u001b[1;32m     15\u001b[0m \u001b[38;5;28;01mdef\u001b[39;00m \u001b[38;5;21mformat_prompts\u001b[39m(df):\n",
      "\u001b[0;31mNameError\u001b[0m: name 'tokenizer' is not defined"
     ]
    }
   ],
   "source": [
    "import tokenizer\n",
    "alpaca_prompt = \"\"\"Below is an instruction that describes a task, paired with an input that provides further context. Write a response that appropriately completes the request.\n",
    "\n",
    "### Instruction:\n",
    "{}\n",
    "\n",
    "### Input:\n",
    "{}\n",
    "\n",
    "### Response:\n",
    "{}\"\"\"\n",
    "\n",
    "EOS_TOKEN = tokenizer.eos_token  # Assuming you're using a tokenizer that has an EOS token\n",
    "\n",
    "# Function to format data into prompts\n",
    "def format_prompts(df):\n",
    "    instructions = []\n",
    "    inputs = []\n",
    "    outputs = []\n",
    "    \n",
    "    for idx, row in df.iterrows():\n",
    "        instruction = \"Based on the provided description of the LEGO minifigure, list and detail all its individual parts along with their colors.\"\n",
    "        input_ = row['description']\n",
    "        output = row['formatted_parts']\n",
    "        \n",
    "        instructions.append(instruction)\n",
    "        inputs.append(input_)\n",
    "        outputs.append(output)\n",
    "    \n",
    "    return {\"instruction\": instructions, \"input\": inputs, \"output\": outputs}\n",
    "\n",
    "# Format your data\n",
    "formatted_data = format_prompts(df)"
   ]
  }
 ],
 "metadata": {
  "kernelspec": {
   "display_name": ".venv",
   "language": "python",
   "name": "python3"
  },
  "language_info": {
   "codemirror_mode": {
    "name": "ipython",
    "version": 3
   },
   "file_extension": ".py",
   "mimetype": "text/x-python",
   "name": "python",
   "nbconvert_exporter": "python",
   "pygments_lexer": "ipython3",
   "version": "3.12.3"
  }
 },
 "nbformat": 4,
 "nbformat_minor": 2
}
